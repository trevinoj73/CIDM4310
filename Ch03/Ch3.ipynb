{
 "cells": [
  {
   "cell_type": "markdown",
   "id": "7c30a409-b515-4ad0-886b-9c14eb3999ba",
   "metadata": {},
   "source": [
    "This is my chapter 03 Notebook "
   ]
  },
  {
   "cell_type": "code",
   "execution_count": 2,
   "id": "50bd6b86-c0c9-4283-bf6a-288c90c4972b",
   "metadata": {},
   "outputs": [
    {
     "name": "stdout",
     "output_type": "stream",
     "text": [
      "hello world\n"
     ]
    }
   ],
   "source": [
    "import os \n",
    "print ( \"hello world\")"
   ]
  },
  {
   "cell_type": "code",
   "execution_count": null,
   "id": "28b24b8e-4ab4-406f-816f-31ed9f1152a3",
   "metadata": {},
   "outputs": [],
   "source": []
  }
 ],
 "metadata": {
  "kernelspec": {
   "display_name": "Python 3",
   "language": "python",
   "name": "python3"
  },
  "language_info": {
   "codemirror_mode": {
    "name": "ipython",
    "version": 3
   },
   "file_extension": ".py",
   "mimetype": "text/x-python",
   "name": "python",
   "nbconvert_exporter": "python",
   "pygments_lexer": "ipython3",
   "version": "3.9.5"
  }
 },
 "nbformat": 4,
 "nbformat_minor": 5
}
